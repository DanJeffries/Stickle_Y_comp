{
 "cells": [
  {
   "cell_type": "markdown",
   "id": "f37b5899-257c-4660-bb55-1013b306cea2",
   "metadata": {},
   "source": [
    "# Investigating the low Fst boundary on the Gw Y (chr12)"
   ]
  },
  {
   "cell_type": "markdown",
   "id": "fe4f58ed-04c4-4d99-ba14-bb0401ce50fd",
   "metadata": {},
   "source": [
    "Homology found (using DGenies) between lower and upper boundaries of the low-Fst region at positions:  \n",
    "   -14,585,267 - 14,585,438 (171 bp match) (lower boundary)  \n",
    "   -16,377,569 - 16,377,740 (171bp match) (upper boundary) (1st hit)  \n",
    "   -16,382,421 - 16,382,592 (171 bp match) (upper boundary) (2nd hit) "
   ]
  },
  {
   "cell_type": "code",
   "execution_count": 1,
   "id": "514c35a6-8024-48c9-b4c5-16d34276a2ce",
   "metadata": {},
   "outputs": [],
   "source": [
    "from matplotlib import pyplot as plt"
   ]
  },
  {
   "cell_type": "markdown",
   "id": "ace2196e-3c22-4768-abf7-39e59cfc4c75",
   "metadata": {},
   "source": [
    "to plot this, I am going to subtract 1.5 Mb from the middle of the region, so I can get better resolution of the end points"
   ]
  },
  {
   "cell_type": "code",
   "execution_count": 52,
   "id": "0ce5d67f-0e04-4a01-88cc-d76823ad30eb",
   "metadata": {},
   "outputs": [],
   "source": [
    "xend_offset = 1500000"
   ]
  },
  {
   "cell_type": "code",
   "execution_count": 11,
   "id": "0bbec883-ca16-4b26-908f-b95ea2ac27cb",
   "metadata": {},
   "outputs": [],
   "source": [
    "low_Fst_start_changepoint_low = 14596500\n",
    "low_Fst_start_changepoint_high = 16614500\n",
    "\n",
    "low_Fst_start_breakpoint_genes_low = (14584631,14599489)\n",
    "low_Fst_end_breakpoint_genes_high = (16361645,16724780)\n",
    "\n",
    "Ga_Gw_paf_lower_breakpoint = 14685628\n",
    "Ga_Gw_paf_upper_breakpoint = 16936053\n",
    "\n",
    "hom_segment_start_1 = (14585267,14585438)\n",
    "hom_segment_end_1 = (16377569,16377740)\n",
    "hom_segment_end_2 = (16382421,16382592)\n",
    "\n",
    "gypsy_lower_1 = (14585236,14585732)\n",
    "gypsy_upper_1 = (16377534,16382896)\n",
    "#gypsy_upper_2 = (16382386,16382896) ## not plotting as it is encompassed within the gypsy_upper_1\n",
    "\n",
    "plt_xstart = 14400000\n",
    "plt_xend = 17000000"
   ]
  },
  {
   "cell_type": "code",
   "execution_count": 12,
   "id": "51288de9-0d4b-4f7f-af4c-d5549e369d19",
   "metadata": {},
   "outputs": [
    {
     "data": {
      "text/plain": [
       "[]"
      ]
     },
     "execution_count": 12,
     "metadata": {},
     "output_type": "execute_result"
    },
    {
     "data": {
      "image/png": "[encoded data removed]",
      "text/plain": [
       "<Figure size 2000x500 with 2 Axes>"
      ]
     },
     "metadata": {},
     "output_type": "display_data"
    }
   ],
   "source": [
    "fig = plt.figure(figsize = (20,5))\n",
    "\n",
    "ax_lower = fig.add_subplot(1,2,1)\n",
    "ax_lower.ticklabel_format(style='plain')\n",
    "\n",
    "## add line representing lower low-Fst region changepoint (from changepoint analyses) + 500kb\n",
    "ax_lower.hlines(2, low_Fst_start_changepoint_low, low_Fst_start_changepoint_low+10000, color = \"blue\")\n",
    "\n",
    "## add lines representing low_Fst region lower breakpoints (START and END of genes DOWNSTREAM breakpoint respectively)\n",
    "ax_lower.hlines(1.9, low_Fst_start_breakpoint_genes_low[0], low_Fst_start_breakpoint_genes_low[1], color = \"lightblue\")\n",
    "\n",
    "# add line representing the breakpoint from the pairwise seq alignment of chr12 of Gw and Ga\n",
    "ax_lower.vlines(Ga_Gw_paf_lower_breakpoint, 1.8, 2.2, color = \"black\")\n",
    "\n",
    "## add lines representing the 171 regions of homology\n",
    "ax_lower.hlines(1.1, hom_segment_start_1[0], hom_segment_start_1[1], color = \"red\")\n",
    "\n",
    "## add lines representing the gypsy repeat at the lower boundary\n",
    "ax_lower.hlines(1.2, gypsy_lower_1[0], gypsy_lower_1[1], color = \"darkred\")\n",
    "\n",
    "ax_lower.set_ylim(0,5)\n",
    "ax_lower.yaxis.set_ticks([])\n",
    "\n",
    "\n",
    "ax_upper = fig.add_subplot(1,2,2)\n",
    "ax_upper.ticklabel_format(style='plain')\n",
    "\n",
    "## add line representing upper low-Fst region changepoint (from changepoint analyses) - 10kb\n",
    "ax_upper.hlines(2, low_Fst_start_changepoint_high-300000, low_Fst_start_changepoint_high, color = \"blue\")\n",
    "\n",
    "## add lines representing low_Fst region upper breakpoints (START and END of genes DOWNSTREAM breakpoint respectively)\n",
    "ax_upper.hlines(1.9, low_Fst_end_breakpoint_genes_high[0], low_Fst_end_breakpoint_genes_high[1], color = \"lightblue\")\n",
    "\n",
    "# add line representing the breakpoint from the pairwise seq alignment of chr12 of Gw and Ga\n",
    "ax_upper.vlines(Ga_Gw_paf_upper_breakpoint, 1.8, 2.2, color = \"black\")\n",
    "\n",
    "## add lines representing the 171 regions of homology\n",
    "ax_upper.hlines(1.1, hom_segment_end_1[0]-200, hom_segment_end_1[1]+200, color = \"red\")\n",
    "ax_upper.hlines(1.1, hom_segment_end_2[0]-200, hom_segment_end_2[1]+200, color = \"red\")\n",
    "\n",
    "## add lines representing the gypsy repeat at the upper boundary\n",
    "ax_upper.hlines(1.2, gypsy_upper_1[0], gypsy_upper_1[1], color = \"darkred\")\n",
    "\n",
    "ax_upper.set_ylim(0,5)\n",
    "ax_upper.yaxis.set_ticks([])\n"
   ]
  },
  {
   "cell_type": "code",
   "execution_count": null,
   "id": "86558709-a915-4195-abc3-256a9df455c3",
   "metadata": {},
   "outputs": [],
   "source": []
  }
 ],
 "metadata": {
  "kernelspec": {
   "display_name": "Python 3 (ipykernel)",
   "language": "python",
   "name": "python3"
  },
  "language_info": {
   "codemirror_mode": {
    "name": "ipython",
    "version": 3
   },
   "file_extension": ".py",
   "mimetype": "text/x-python",
   "name": "python",
   "nbconvert_exporter": "python",
   "pygments_lexer": "ipython3",
   "version": "3.9.13"
  }
 },
 "nbformat": 4,
 "nbformat_minor": 5
}
