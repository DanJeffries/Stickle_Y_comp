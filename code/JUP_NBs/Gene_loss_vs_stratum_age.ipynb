{
 "cells": [
  {
   "cell_type": "markdown",
   "id": "ef027450-bda2-4abd-86f7-c5567d65cc5a",
   "metadata": {},
   "source": [
    "# Gene loss vs stratum age. \n",
    "\n",
    "The rate of gene loss on sex chromosomes is not expected to be linear. Genes which can tolerate the loss of an allele (i.e. dosage insensitive) can be lost relatively easily, while those which are dosage sensitive cannot easily be lost. Thus, overtime, sex chromosomes will lose gene content until most remaining genes are dosage sensitive. \n",
    "\n",
    "This dynamic means that gene loss on sex chromosomes is not linear. Once most of the dosage insensitive genes are lost, gene loss will slow down. \n",
    "\n",
    "In the stickleback, we have a nice opportunity to show this. We have multiple strata, in two species, which have all lost genes. Some strata are realrtively old, and have lost a lot of genes, some are younger, with modest gene loss. This spread means we can plot gene loss against the age of a stratum, and so we should see a non-linear gene loss pattern across the different strata ages. Lets do it. \n"
   ]
  },
  {
   "cell_type": "markdown",
   "id": "a214a461-c9c9-4a11-90c6-6bd241227470",
   "metadata": {},
   "source": [
    "## Ages of strata\n",
    "\n",
    "Dating strata is somewhat complicated, as it requires a good clock, and a male mutation rate bias estimate. Also, given the young age of some strata, the error bars on their age estimates in particular will be large. \n",
    "\n",
    "We can therefore focus on relative age, as assessed with dS. "
   ]
  },
  {
   "cell_type": "markdown",
   "id": "bb74a769-a321-4544-b18c-e6327333bb82",
   "metadata": {},
   "source": [
    "## Gene loss\n",
    "\n",
    "Gene loss is easier. We have lists of orthologs from our Orthofinder analyses. From these I can see which genes have been lost from the Y"
   ]
  },
  {
   "cell_type": "markdown",
   "id": "347abd2a-8342-4ca1-b744-fcfbd0e2d8f2",
   "metadata": {
    "tags": []
   },
   "source": [
    "### G. aculeatus"
   ]
  },
  {
   "cell_type": "code",
   "execution_count": 1,
   "id": "bed145d3-b16f-4164-8161-8623744295b2",
   "metadata": {},
   "outputs": [],
   "source": [
    "Ga_dS_path = \"/Users/dj20y461/Data_temp/Stickleback/Y_comp/M_F_stats_plots/Ga/dNdS.results\"\n",
    "Ga_Y_lost_path = \"/Users/dj20y461/Data_temp/Stickleback/Y_comp/M_F_stats_plots/Ga/Ga_Y_lost.txt\"\n",
    "\n",
    "ds_dict = {}\n",
    "Y_lost_list = []\n",
    "\n",
    "with open(Ga_dS_path) as Ga_dS:\n",
    "    for line in Ga_dS:\n",
    "        ds_dict[int(line.split()[2])] = float(line.split()[8])\n",
    "        \n",
    "with open(Ga_Y_lost_path) as Ga_Y_lost:\n",
    "    next(Ga_Y_lost)\n",
    "    for line in Ga_Y_lost:\n",
    "        Y_lost_list.append(int(line.split()[2]))\n"
   ]
  },
  {
   "cell_type": "markdown",
   "id": "4e6676fd-ebaf-4da4-8339-8090ec70c85f",
   "metadata": {},
   "source": [
    "### Strata "
   ]
  },
  {
   "cell_type": "code",
   "execution_count": 6,
   "id": "2c452e74-4009-4dd6-a4e3-6e86b888d389",
   "metadata": {},
   "outputs": [],
   "source": [
    "PAR = (0, 2500000)\n",
    "S2 = (2500000, 6900000)\n",
    "S3 = (6900000, 12500000)\n",
    "S1 = (12500000, 20000000)"
   ]
  },
  {
   "cell_type": "code",
   "execution_count": 26,
   "id": "23f9310a-e600-499e-a75d-a41371d426d2",
   "metadata": {
    "tags": []
   },
   "outputs": [],
   "source": [
    "strata_dict = {}\n",
    "strata_dict[\"PAR\"] = {}\n",
    "strata_dict[\"PAR\"][\"dS\"] = []\n",
    "strata_dict[\"PAR\"][\"lost\"] = []\n",
    "strata_dict[\"S1\"] = {}\n",
    "strata_dict[\"S1\"][\"dS\"] = []\n",
    "strata_dict[\"S1\"][\"lost\"] = []\n",
    "strata_dict[\"S2\"] = {}\n",
    "strata_dict[\"S2\"][\"dS\"] = []\n",
    "strata_dict[\"S2\"][\"lost\"] = []\n",
    "strata_dict[\"S3\"] = {}\n",
    "strata_dict[\"S3\"][\"dS\"] = []\n",
    "strata_dict[\"S3\"][\"lost\"] = []\n",
    "\n",
    "for locus in ds_dict:\n",
    "        \n",
    "    #print(locus)\n",
    "    \n",
    "    if PAR[0] < locus <= PAR[1]:\n",
    "        strata_dict[\"PAR\"][\"dS\"].append(ds_dict[locus])\n",
    "    elif S1[0] < locus <= S1[1]:\n",
    "        strata_dict[\"S1\"][\"dS\"].append(ds_dict[locus])\n",
    "    elif S2[0] < locus <= S2[1]:\n",
    "        strata_dict[\"S2\"][\"dS\"].append(ds_dict[locus])\n",
    "    elif S3[0] < locus <= S3[1]:\n",
    "        strata_dict[\"S3\"][\"dS\"].append(ds_dict[locus])\n",
    "        \n",
    "for lost in Y_lost_list:\n",
    "\n",
    "    if PAR[0] < lost <= PAR[1]:\n",
    "        strata_dict[\"PAR\"][\"lost\"].append(lost)\n",
    "    if S1[0] < lost <= S1[1]:\n",
    "        strata_dict[\"S1\"][\"lost\"].append(lost)\n",
    "    if S2[0] < lost <= S2[1]:\n",
    "        strata_dict[\"S2\"][\"lost\"].append(lost)\n",
    "    if S3[0] < lost <= S3[1]:\n",
    "        strata_dict[\"S3\"][\"lost\"].append(lost)\n",
    "    "
   ]
  },
  {
   "cell_type": "code",
   "execution_count": 13,
   "id": "2effadcb-d525-489d-82da-4838dfd0833e",
   "metadata": {},
   "outputs": [
    {
     "data": {
      "text/plain": [
       "19575083"
      ]
     },
     "execution_count": 13,
     "metadata": {},
     "output_type": "execute_result"
    }
   ],
   "source": [
    "locus"
   ]
  },
  {
   "cell_type": "code",
   "execution_count": 21,
   "id": "1733fc7b-58bc-4a15-891b-c86e5f134e44",
   "metadata": {},
   "outputs": [
    {
     "name": "stdout",
     "output_type": "stream",
     "text": [
      "PAR 4\n",
      "S1 53\n",
      "S2 89\n",
      "S3 149\n"
     ]
    }
   ],
   "source": [
    "for stratum in strata_dict:\n",
    "    print(stratum, len(strata_dict[stratum][\"dS\"]))"
   ]
  },
  {
   "cell_type": "code",
   "execution_count": 27,
   "id": "a22b7830-b6d8-4ca1-9ec6-15b8a62b8e88",
   "metadata": {},
   "outputs": [],
   "source": [
    "import numpy as np\n",
    "\n",
    "#' points to plot\n",
    "dSvslost = {}\n",
    "\n",
    "stratum = \"S1\"\n",
    "dSvslost[stratum] = {}\n",
    "dSvslost[stratum][\"meandS\"] = np.round(np.mean(strata_dict[stratum][\"dS\"]),4)\n",
    "dSvslost[stratum][\"N_lost\"] = len(strata_dict[stratum][\"lost\"])\n",
    "\n",
    "stratum = \"S2\"\n",
    "dSvslost[stratum] = {}\n",
    "dSvslost[stratum][\"meandS\"] = np.round(np.mean(strata_dict[stratum][\"dS\"]),4)\n",
    "dSvslost[stratum][\"N_lost\"] = len(strata_dict[stratum][\"lost\"])\n",
    "\n",
    "stratum = \"S3\"\n",
    "dSvslost[stratum] = {}\n",
    "dSvslost[stratum][\"meandS\"] = np.round(np.mean(strata_dict[stratum][\"dS\"]),4)\n",
    "dSvslost[stratum][\"N_lost\"] = len(strata_dict[stratum][\"lost\"])\n"
   ]
  },
  {
   "cell_type": "code",
   "execution_count": 28,
   "id": "8c34c2ff-e386-4251-98ba-4f442183d6bd",
   "metadata": {},
   "outputs": [
    {
     "data": {
      "text/plain": [
       "{'S1': {'meandS': 0.1576, 'N_lost': 416},\n",
       " 'S2': {'meandS': 0.0718, 'N_lost': 64},\n",
       " 'S3': {'meandS': 0.0766, 'N_lost': 85}}"
      ]
     },
     "execution_count": 28,
     "metadata": {},
     "output_type": "execute_result"
    }
   ],
   "source": [
    "dSvslost"
   ]
  },
  {
   "cell_type": "markdown",
   "id": "fe3b63e0-2d41-46cf-af9f-ec09ae14c823",
   "metadata": {},
   "source": [
    "### Now I just need the original number of genes on the X, so I can calculate the proportion lost"
   ]
  },
  {
   "cell_type": "code",
   "execution_count": 29,
   "id": "cc28ac04-8c05-4b87-8465-21ee5db647ee",
   "metadata": {},
   "outputs": [],
   "source": [
    "gff3_path = \"/Users/dj20y461/Data_temp/Stickleback/Y_comp/M_F_stats_plots/Ga/Ga.longest.gff3\"\n",
    "\n",
    "S1_genes = []\n",
    "S2_genes = []\n",
    "S3_genes = []\n",
    "\n",
    "with open(gff3_path) as gff3:\n",
    "    for line in gff3:\n",
    "        if line.split()[0] == \"chrXIX\" and line.split()[2] == \"gene\":\n",
    "            if S1[0] < int(line.split()[3]) <= S1 [1]:\n",
    "                S1_genes.append(line.split()[3])\n",
    "            elif S2[0] < int(line.split()[3]) <= S2 [1]:\n",
    "                S2_genes.append(line.split()[3])\n",
    "            elif S3[0] < int(line.split()[3]) <= S3 [1]:\n",
    "                S3_genes.append(line.split()[3])\n",
    "            "
   ]
  },
  {
   "cell_type": "code",
   "execution_count": 36,
   "id": "207946c5-4b60-458a-9fe6-83579cb72560",
   "metadata": {},
   "outputs": [
    {
     "name": "stdout",
     "output_type": "stream",
     "text": [
      "523 222 295\n"
     ]
    }
   ],
   "source": [
    "print(len(S1_genes), len(S2_genes), len(S3_genes))"
   ]
  },
  {
   "cell_type": "code",
   "execution_count": 34,
   "id": "461abdf9-aa3a-4fc6-962f-d74848e260af",
   "metadata": {},
   "outputs": [],
   "source": [
    "dSvslost[\"S1\"][\"proplost\"] = dSvslost[\"S1\"][\"N_lost\"]/len(S1_genes)\n",
    "dSvslost[\"S2\"][\"proplost\"] = dSvslost[\"S2\"][\"N_lost\"]/len(S2_genes)\n",
    "dSvslost[\"S3\"][\"proplost\"] = dSvslost[\"S3\"][\"N_lost\"]/len(S3_genes)"
   ]
  },
  {
   "cell_type": "code",
   "execution_count": 35,
   "id": "f70a75ef-88b8-4f3b-b8e8-2a09f23712cf",
   "metadata": {},
   "outputs": [
    {
     "data": {
      "text/plain": [
       "{'S1': {'meandS': 0.1576, 'N_lost': 416, 'proplost': 0.7954110898661568},\n",
       " 'S2': {'meandS': 0.0718, 'N_lost': 64, 'proplost': 0.2882882882882883},\n",
       " 'S3': {'meandS': 0.0766, 'N_lost': 85, 'proplost': 0.288135593220339}}"
      ]
     },
     "execution_count": 35,
     "metadata": {},
     "output_type": "execute_result"
    }
   ],
   "source": [
    "dSvslost"
   ]
  },
  {
   "cell_type": "code",
   "execution_count": 39,
   "id": "d9fccc8b-c88b-4774-8706-3e15cfbd01f9",
   "metadata": {},
   "outputs": [
    {
     "data": {
      "image/png": "[encoded data removed]",
      "text/plain": [
       "<Figure size 640x480 with 1 Axes>"
      ]
     },
     "metadata": {},
     "output_type": "display_data"
    }
   ],
   "source": [
    "from matplotlib import pyplot as plt\n",
    "\n",
    "x = [0, 0.1576, 0.0718, 0.0766]\n",
    "y = [0, 0.7954110898661568, 0.2882882882882883, 0.288135593220339]\n",
    "\n",
    "plt.scatter(x,y)\n",
    "plt.ylabel(\"% genes lost\")\n",
    "plt.xlabel(\"dS\")\n",
    "plt.show()\n"
   ]
  },
  {
   "cell_type": "markdown",
   "id": "f505fb81-be11-4fdb-8392-032f4913e291",
   "metadata": {},
   "source": [
    "hmmm, this is not the trend I was imagining. . . but I suppose 0 is not necassarily a good place to start. . . if we took any autosome, and calculated dS between the homologs, I guess it wouldn't be zero. \n",
    "\n",
    "Lets see what the Gw plot looks like, as there are more points to plot there. Though we need to define some boundaries . . . .\n",
    "\n"
   ]
  },
  {
   "cell_type": "markdown",
   "id": "87245121-d01a-419f-a787-63e21d425bbe",
   "metadata": {},
   "source": [
    "## G. wheatlandi"
   ]
  },
  {
   "cell_type": "code",
   "execution_count": null,
   "id": "e7c21327-02fd-48b9-8ef5-8c22d07c70ee",
   "metadata": {},
   "outputs": [],
   "source": []
  },
  {
   "cell_type": "markdown",
   "id": "7301ec24-50f2-4100-93b0-340a62e6ded1",
   "metadata": {},
   "source": [
    "### Strata "
   ]
  },
  {
   "cell_type": "markdown",
   "id": "28634bac-4519-4049-bff8-f100fe6cf094",
   "metadata": {},
   "source": [
    "Before I can properly set up this plot, I need to know where S1 was in Gw. Obviously, there is no remnents of this on the ChrY, but I can check where the S1 genes in Ga are in the Gw X, this would give me the old S1 position on the Gw X. "
   ]
  },
  {
   "cell_type": "markdown",
   "id": "6a03913a-a922-44a2-8d06-1862b1e43bb6",
   "metadata": {},
   "source": [
    "First, get Ga S1 genes."
   ]
  },
  {
   "cell_type": "code",
   "execution_count": 225,
   "id": "e76e446c-9dca-41af-9448-8eee12cb0515",
   "metadata": {},
   "outputs": [],
   "source": [
    "Ga_dS_path = \"/Users/dj20y461/Data_temp/Stickleback/Y_comp/M_F_stats_plots/Ga/dNdS.results\"\n",
    "\n",
    "S1 = (12500000, 20000000)\n",
    "Ga_S1_genes = []\n",
    "\n",
    "with open(Ga_dS_path) as Ga_dS:\n",
    "    for line in Ga_dS:\n",
    "        gene = line.split()[0]\n",
    "        pos = int(line.split()[2])\n",
    "        \n",
    "        if S1[0] < pos <= S1[1]:\n",
    "            Ga_S1_genes.append(gene)"
   ]
  },
  {
   "cell_type": "code",
   "execution_count": 89,
   "id": "4ed0b5b6-5ca6-47ee-93c5-3183dd45b770",
   "metadata": {
    "collapsed": true,
    "jupyter": {
     "outputs_hidden": true
    },
    "tags": []
   },
   "outputs": [
    {
     "data": {
      "text/plain": [
       "['rna-XM_040162583.1',\n",
       " 'rna-XM_040162844.1',\n",
       " 'rna-XM_040163204.1',\n",
       " 'rna-XM_040163938.1',\n",
       " 'rna-XM_040161866.1',\n",
       " 'rna-XM_040161871.1',\n",
       " 'rna-XM_040163689.1',\n",
       " 'rna-XM_040162331.1',\n",
       " 'rna-XM_040163874.1',\n",
       " 'rna-XM_040162246.1',\n",
       " 'rna-XM_040162703.1',\n",
       " 'rna-XM_040162455.1',\n",
       " 'rna-XM_040162059.1',\n",
       " 'rna-XM_040163567.1',\n",
       " 'rna-XM_040163562.1',\n",
       " 'rna-XM_040161846.1',\n",
       " 'rna-XM_040162898.1',\n",
       " 'rna-XM_040162959.1',\n",
       " 'rna-XM_040163553.1',\n",
       " 'rna-XM_040162161.1',\n",
       " 'rna-XM_040162346.1',\n",
       " 'rna-XM_040163100.1',\n",
       " 'rna-XM_040162280.1',\n",
       " 'rna-XM_040162284.1',\n",
       " 'rna-XM_040163385.1',\n",
       " 'rna-XM_040163393.1',\n",
       " 'rna-XM_040163384.1',\n",
       " 'rna-XM_040163403.1',\n",
       " 'rna-XM_040162989.1',\n",
       " 'rna-XM_040163303.1',\n",
       " 'rna-XM_040161584.1',\n",
       " 'rna-XM_040162169.1',\n",
       " 'rna-XM_040163424.1',\n",
       " 'rna-XM_040163445.1',\n",
       " 'rna-XM_040162689.1',\n",
       " 'rna-XM_040162057.1',\n",
       " 'rna-XM_040162024.1',\n",
       " 'rna-XM_040163406.1',\n",
       " 'rna-XM_040162093.1',\n",
       " 'rna-XM_040162095.1',\n",
       " 'rna-XM_040162145.1',\n",
       " 'rna-XM_040163704.1',\n",
       " 'rna-XM_040163636.1',\n",
       " 'rna-XM_040162773.1',\n",
       " 'rna-XM_040162774.1',\n",
       " 'rna-XM_040163509.1',\n",
       " 'rna-XM_040163074.1',\n",
       " 'rna-XM_040161993.1',\n",
       " 'rna-XM_040163404.1',\n",
       " 'rna-XM_040163342.1',\n",
       " 'rna-XM_040162889.1',\n",
       " 'rna-XM_040161615.1',\n",
       " 'rna-XM_040162614.1']"
      ]
     },
     "execution_count": 89,
     "metadata": {},
     "output_type": "execute_result"
    }
   ],
   "source": [
    "Ga_S1_genes"
   ]
  },
  {
   "cell_type": "markdown",
   "id": "18074ae2-32c9-4b78-af22-3bc3be0d061a",
   "metadata": {},
   "source": [
    "Now find the Gw orthologs of these genes. "
   ]
  },
  {
   "cell_type": "code",
   "execution_count": 95,
   "id": "8f84eb07-6744-4910-8ac4-34c9d6705740",
   "metadata": {},
   "outputs": [],
   "source": [
    "Gw_S1_genes = []\n",
    "with open(\"/Users/dj20y461/Data_temp/Stickleback/Y_comp/M_F_stats_plots/Gw/N0.tsv\") as N0:\n",
    "    for line in N0:\n",
    "        for Ga_gene in Ga_S1_genes:\n",
    "            if Ga_gene in line.split():\n",
    "                for gene in line.split():\n",
    "                    if \"GwA\" in gene:\n",
    "                        if gene not in Gw_S1_genes:\n",
    "                            Gw_S1_genes.append(gene.strip(\",\"))\n",
    "    "
   ]
  },
  {
   "cell_type": "markdown",
   "id": "bf5463df-d0cc-48a0-a174-5deed276906e",
   "metadata": {},
   "source": [
    "Ok, now I just need to get the positions of these genes on the Gw Chr19"
   ]
  },
  {
   "cell_type": "code",
   "execution_count": 100,
   "id": "3d5bbdf2-d286-4b49-a175-cad4310c655e",
   "metadata": {
    "collapsed": true,
    "jupyter": {
     "outputs_hidden": true
    },
    "tags": []
   },
   "outputs": [
    {
     "data": {
      "text/plain": [
       "['GwA_30830-RA',\n",
       " 'GwA_30662-RA',\n",
       " 'GwA_30661-RA',\n",
       " 'GwA_30446-RA',\n",
       " 'GwA_30894-RA',\n",
       " 'GwA_30765-RA',\n",
       " 'GwA_30677-RA',\n",
       " 'GwA_30678-RA',\n",
       " 'GwA_30860-RA',\n",
       " 'GwA_30825-RA',\n",
       " 'GwA_30360-RA',\n",
       " 'GwA_30669-RA',\n",
       " 'GwA_30684-RA',\n",
       " 'GwA_30565-RA',\n",
       " 'GwA_30581-RA',\n",
       " 'GwA_30582-RA',\n",
       " 'GwA_30535-RA',\n",
       " 'GwA_30418-RA',\n",
       " 'GwA_02658-RA',\n",
       " 'GwA_30666-RA',\n",
       " 'GwA_30369-RA',\n",
       " 'GwA_01911-RA',\n",
       " 'GwA_30680-RA',\n",
       " 'GwA_30785-RA',\n",
       " 'GwA_30370-RA',\n",
       " 'GwA_30826-RA',\n",
       " 'GwA_30824-RA',\n",
       " 'GwA_30318-RA',\n",
       " 'GwA_30816-RA',\n",
       " 'GwA_30831-RA',\n",
       " 'GwA_30614-RA',\n",
       " 'GwA_30618-RA',\n",
       " 'GwA_30620-RA',\n",
       " 'GwA_30647-RA',\n",
       " 'GwA_30655-RA',\n",
       " 'GwA_30547-RA',\n",
       " 'GwA_30525-RA',\n",
       " 'GwA_30513-RA',\n",
       " 'GwA_30756-RA',\n",
       " 'GwA_30823-RA',\n",
       " 'GwA_30827-RA',\n",
       " 'GwA_30906-RA',\n",
       " 'GwA_30579-RA',\n",
       " 'GwA_30622-RA',\n",
       " 'GwA_30626-RA',\n",
       " 'GwA_30634-RA',\n",
       " 'GwA_30403-RA',\n",
       " 'GwA_30319-RA',\n",
       " 'GwA_30633-RA',\n",
       " 'GwA_30526-RA',\n",
       " 'GwA_30800-RA']"
      ]
     },
     "execution_count": 100,
     "metadata": {},
     "output_type": "execute_result"
    }
   ],
   "source": [
    "Gw_S1_genes"
   ]
  },
  {
   "cell_type": "code",
   "execution_count": 114,
   "id": "97b02ac9-7bc7-49cf-9fdf-58e3f8781b69",
   "metadata": {},
   "outputs": [],
   "source": [
    "Gw_S1_gene_positions = []\n",
    "with open(\"/Users/dj20y461/Data_temp/Stickleback/Y_comp/M_F_stats_plots/Gw/Gw.longest.gff3\") as GwGff3:\n",
    "    next(GwGff3)\n",
    "    for line in GwGff3:\n",
    "        if line.split()[2] == \"mRNA\":\n",
    "            for gene in Gw_S1_genes:\n",
    "                if gene in line:\n",
    "                    if line.split()[0] == \"chr19\":\n",
    "                        Gw_S1_gene_positions.append(int(line.split()[3]))\n",
    "                        Gw_S1_gene_positions.append(int(line.split()[4])) ## adding the stop positions too\n"
   ]
  },
  {
   "cell_type": "code",
   "execution_count": 115,
   "id": "069a7fa5-9bf8-47f7-bcb0-24d75d97731a",
   "metadata": {},
   "outputs": [
    {
     "name": "stdout",
     "output_type": "stream",
     "text": [
      "S1 start gene = 14216366\n",
      "S1 end gene = 21435079\n"
     ]
    }
   ],
   "source": [
    "print(\"S1 start gene = %s\\nS1 end gene = %s\" % (min(Gw_S1_gene_positions),max(Gw_S1_gene_positions)))"
   ]
  },
  {
   "cell_type": "markdown",
   "id": "c2339213-d179-4034-8f41-c880feaad56a",
   "metadata": {},
   "source": [
    "So I will add some buffer to this, I'll start S1 from ~1kb lower (14215000), and end at the end of the chromosome. \n",
    "\n",
    "Below then are the strata / block locations for Gw"
   ]
  },
  {
   "cell_type": "code",
   "execution_count": 226,
   "id": "3a57c9b5-8a38-4985-a790-06b7b6c9a719",
   "metadata": {},
   "outputs": [],
   "source": [
    "## set up the block dictionary\n",
    "\n",
    "Gw_blocks = {}\n",
    "\n",
    "Gw_blocks[\"b19_1\"] = {}\n",
    "Gw_blocks[\"b19_1\"][\"chrom\"] = \"chr19\"\n",
    "Gw_blocks[\"b19_1\"][\"coords\"] = (14215000, 22650000)\n",
    "Gw_blocks[\"b19_2\"] = {}\n",
    "Gw_blocks[\"b19_2\"][\"chrom\"] = \"chr19\"\n",
    "Gw_blocks[\"b19_2\"][\"coords\"] = (0, 14215000) ## this is the rest of the chr that is not orthologous to Ga S1. \n",
    "\n",
    "Gw_blocks[\"b12_1\"] = {}\n",
    "Gw_blocks[\"b12_1\"][\"chrom\"] = \"chr12\"\n",
    "Gw_blocks[\"b12_1\"][\"coords\"] = (21585000, 24417000)\n",
    "Gw_blocks[\"b12_2\"] = {}\n",
    "Gw_blocks[\"b12_2\"][\"chrom\"] = \"chr12\"\n",
    "Gw_blocks[\"b12_2\"][\"coords\"] = (19602000, 21448000)\n",
    "Gw_blocks[\"b12_3\"] = {}\n",
    "Gw_blocks[\"b12_3\"][\"chrom\"] = \"chr12\"\n",
    "Gw_blocks[\"b12_3\"][\"coords\"] = (17460000, 19602000)\n",
    "Gw_blocks[\"b12_4\"] = {}\n",
    "Gw_blocks[\"b12_4\"][\"chrom\"] = \"chr12\"\n",
    "Gw_blocks[\"b12_4\"][\"coords\"] = (16257000, 17460000) ## <<- no genes found in orthofinder\n",
    "Gw_blocks[\"b12_5\"] = {}\n",
    "Gw_blocks[\"b12_5\"][\"chrom\"] = \"chr12\"\n",
    "Gw_blocks[\"b12_5\"][\"coords\"] = (15350000, 16257000)\n",
    "Gw_blocks[\"b12_6\"] = {}\n",
    "Gw_blocks[\"b12_6\"][\"chrom\"] = \"chr12\"\n",
    "Gw_blocks[\"b12_6\"][\"coords\"] = (14552000, 15350000)\n",
    "Gw_blocks[\"b12_7\"] = {}\n",
    "Gw_blocks[\"b12_7\"][\"chrom\"] = \"chr12\"\n",
    "Gw_blocks[\"b12_7\"][\"coords\"] = (12265000, 14552000)\n",
    "Gw_blocks[\"b12_8\"] = {}\n",
    "Gw_blocks[\"b12_8\"][\"chrom\"] = \"chr12\"\n",
    "Gw_blocks[\"b12_8\"][\"coords\"] = (11664000, 12265000)\n",
    "Gw_blocks[\"b12_9\"] = {}\n",
    "Gw_blocks[\"b12_9\"][\"chrom\"] = \"chr12\"\n",
    "Gw_blocks[\"b12_9\"][\"coords\"] = (6202000,  11664000)\n",
    "Gw_blocks[\"b12_PAR\"] = {}\n",
    "Gw_blocks[\"b12_PAR\"][\"chrom\"] = \"chr12\"\n",
    "Gw_blocks[\"b12_PAR\"][\"coords\"]= (0, 6202000)\n",
    "\n"
   ]
  },
  {
   "cell_type": "markdown",
   "id": "d0028c78-a3ba-4c48-89cb-3231ef8d295c",
   "metadata": {},
   "source": [
    "### Get the dS data"
   ]
  },
  {
   "cell_type": "code",
   "execution_count": 297,
   "id": "cc56d627-fd4f-47fa-9508-0f8e33266c8d",
   "metadata": {},
   "outputs": [],
   "source": [
    "Gw_dS_path = \"/Users/dj20y461/Data_temp/Stickleback/Y_comp/M_F_stats_plots/Gw/dNdS.results\"\n",
    "\n",
    "## make the dictionary slots needed\n",
    "\n",
    "for block in Gw_blocks:\n",
    "    Gw_blocks[block][\"dS\"] = []\n",
    "\n",
    "with open(Gw_dS_path) as Gw_dS:\n",
    "    for line in Gw_dS:\n",
    "        chrom = line.split()[1]\n",
    "        pos = int(line.split()[2])\n",
    "        dS = float(line.split()[8])\n",
    "        \n",
    "        for block in Gw_blocks:\n",
    "            if all([Gw_blocks[block][\"chrom\"] == chrom,\n",
    "                    Gw_blocks[block][\"coords\"][0] < pos <= Gw_blocks[block][\"coords\"][1],\n",
    "                    dS < 10]):\n",
    "\n",
    "                Gw_blocks[block][\"dS\"].append(dS)\n",
    "                \n"
   ]
  },
  {
   "cell_type": "markdown",
   "id": "ba7bdde7-b8c0-44cc-93ad-1714556ed22f",
   "metadata": {},
   "source": [
    "### get the Y gene loss data"
   ]
  },
  {
   "cell_type": "code",
   "execution_count": 298,
   "id": "d7a5ed64-434c-4776-84fe-5b2fafc0e069",
   "metadata": {},
   "outputs": [],
   "source": [
    "Gw_Y_lost_path = \"/Users/dj20y461/Data_temp/Stickleback/Y_comp/M_F_stats_plots/Gw/Gw_Y_lost.txt\"\n",
    "\n",
    "## make the dictionary slots needed\n",
    "\n",
    "for block in Gw_blocks:\n",
    "    Gw_blocks[block][\"lost\"] = []\n",
    "                  \n",
    "with open(Gw_Y_lost_path) as Gw_Y_lost:\n",
    "    \n",
    "    next(Gw_Y_lost) ## skip headers\n",
    "    \n",
    "    for line in Gw_Y_lost:\n",
    "        chrom = line.split()[1]\n",
    "        lost_pos = int(line.split()[2])\n",
    "                \n",
    "        for block in Gw_blocks:\n",
    "            if all([Gw_blocks[block][\"chrom\"] == chrom,\n",
    "                    Gw_blocks[block][\"coords\"][0] < lost_pos <= Gw_blocks[block][\"coords\"][1]]):\n",
    "        \n",
    "                Gw_blocks[block][\"lost\"].append(lost_pos)\n"
   ]
  },
  {
   "cell_type": "markdown",
   "id": "24a7296a-425e-4edb-b6f5-caba1ada57a7",
   "metadata": {},
   "source": [
    "### Now summarise these data "
   ]
  },
  {
   "cell_type": "code",
   "execution_count": 299,
   "id": "f9b371c7-acf9-46c7-9df3-78c821460cc7",
   "metadata": {},
   "outputs": [],
   "source": [
    "## find mean dS & count number of genes lost\n",
    "\n",
    "import numpy as np\n",
    "\n",
    "for block in Gw_blocks:\n",
    "    if block != \"b12_PAR\":\n",
    "        Gw_blocks[block][\"meandS\"] = np.round(np.mean(Gw_blocks[block][\"dS\"]),4)\n",
    "        Gw_blocks[block][\"N_lost\"] = len(Gw_blocks[block][\"lost\"])"
   ]
  },
  {
   "cell_type": "markdown",
   "id": "0641ea94-eb69-41b7-adb7-f628c8b06710",
   "metadata": {},
   "source": [
    "### Now I just need the original number of genes on the X, so I can calculate the proportion lost"
   ]
  },
  {
   "cell_type": "code",
   "execution_count": 308,
   "id": "dc2f0323-ba68-4407-85df-8473f2793613",
   "metadata": {},
   "outputs": [],
   "source": [
    "gff3_path = \"/Users/dj20y461/Data_temp/Stickleback/Y_comp/M_F_stats_plots/Gw/Gw.longest.gff3\"\n",
    "\n",
    "## make dict slots\n",
    "\n",
    "for block in Gw_blocks:\n",
    "    Gw_blocks[block][\"X_genes\"] = []\n",
    "\n",
    "with open(gff3_path) as gff3:\n",
    "    next(gff3) ## skip headers\n",
    "    for line in gff3:\n",
    "        if line.split()[2] == \"gene\":\n",
    "            chrom = line.split()[0]\n",
    "            for block in Gw_blocks:\n",
    "                if Gw_blocks[block][\"chrom\"] == chrom:\n",
    "                    if Gw_blocks[block][\"coords\"][0] < int(line.split()[3]) <= Gw_blocks[block][\"coords\"][1]:\n",
    "                        Gw_blocks[block][\"X_genes\"].append(line.split()[3])\n",
    "\n",
    "            "
   ]
  },
  {
   "cell_type": "markdown",
   "id": "ffedc67a-5375-4ef1-926b-5fb29e12d502",
   "metadata": {},
   "source": [
    "### Finally, calculate the proportion of X genes lost per block"
   ]
  },
  {
   "cell_type": "code",
   "execution_count": 309,
   "id": "4dd85d85-9967-4bb8-a5bd-44a7462efba6",
   "metadata": {},
   "outputs": [],
   "source": [
    "for block in Gw_blocks:\n",
    "    Gw_blocks[block][\"prop_genes_lost\"] = Gw_blocks[block][\"N_lost\"]/len(Gw_blocks[block][\"X_genes\"])"
   ]
  },
  {
   "cell_type": "code",
   "execution_count": 310,
   "id": "febcd8ca-ff41-49ff-8960-b917b5d92fec",
   "metadata": {
    "tags": []
   },
   "outputs": [
    {
     "name": "stdout",
     "output_type": "stream",
     "text": [
      "b19_1\n",
      "  N X genes = 534\n",
      "  N Y lost = 424\n",
      "  mean dS = 0.2261\n",
      "  prop genes lost = 0.794\n",
      "b19_2\n",
      "  N X genes = 648\n",
      "  N Y lost = 449\n",
      "  mean dS = 0.3257\n",
      "  prop genes lost = 0.6929\n",
      "b12_1\n",
      "  N X genes = 222\n",
      "  N Y lost = 12\n",
      "  mean dS = 0.1095\n",
      "  prop genes lost = 0.0541\n",
      "b12_2\n",
      "  N X genes = 235\n",
      "  N Y lost = 3\n",
      "  mean dS = 0.1077\n",
      "  prop genes lost = 0.0128\n",
      "b12_3\n",
      "  N X genes = 91\n",
      "  N Y lost = 4\n",
      "  mean dS = 0.1989\n",
      "  prop genes lost = 0.044\n",
      "b12_4\n",
      "  N X genes = 55\n",
      "  N Y lost = 42\n",
      "  mean dS = 0.0996\n",
      "  prop genes lost = 0.7636\n",
      "b12_5\n",
      "  N X genes = 414\n",
      "  N Y lost = 21\n",
      "  mean dS = 0.3158\n",
      "  prop genes lost = 0.0507\n",
      "b12_6\n",
      "  N X genes = 43\n",
      "  N Y lost = 5\n",
      "  mean dS = 0.0867\n",
      "  prop genes lost = 0.1163\n",
      "b12_7\n",
      "  N X genes = 138\n",
      "  N Y lost = 12\n",
      "  mean dS = 0.1594\n",
      "  prop genes lost = 0.087\n",
      "b12_8\n",
      "  N X genes = 52\n",
      "  N Y lost = 3\n",
      "  mean dS = 0.2935\n",
      "  prop genes lost = 0.0577\n",
      "b12_9\n",
      "  N X genes = 369\n",
      "  N Y lost = 27\n",
      "  mean dS = 0.1091\n",
      "  prop genes lost = 0.0732\n",
      "b12_PAR\n",
      "  N X genes = 321\n",
      "  N Y lost = 257\n",
      "  mean dS = nan\n",
      "  prop genes lost = 0.8006\n"
     ]
    }
   ],
   "source": [
    "for block in Gw_blocks:\n",
    "    print(block)\n",
    "    print(\"  N X genes = %s\" % len(Gw_blocks[block][\"X_genes\"]))\n",
    "    print(\"  N Y lost = %s\" % Gw_blocks[block][\"N_lost\"])\n",
    "    print(\"  mean dS = %s\" % Gw_blocks[block][\"meandS\"])\n",
    "    print(\"  prop genes lost = %s\" % np.round(Gw_blocks[block][\"prop_genes_lost\"],4))"
   ]
  },
  {
   "cell_type": "markdown",
   "id": "e2a2db3f-4f81-480d-9c3c-e7e0a004618d",
   "metadata": {},
   "source": [
    "### Now plot"
   ]
  },
  {
   "cell_type": "code",
   "execution_count": 311,
   "id": "172babb3-c658-4075-b156-8d24ffab88d4",
   "metadata": {},
   "outputs": [
    {
     "data": {
      "image/png": "[encoded data removed]",
      "text/plain": [
       "<Figure size 640x480 with 1 Axes>"
      ]
     },
     "metadata": {},
     "output_type": "display_data"
    }
   ],
   "source": [
    "from matplotlib import pyplot as plt\n",
    "\n",
    "x = [] \n",
    "y = []\n",
    "labs = []\n",
    "\n",
    "for block in Gw_blocks:\n",
    "    \n",
    "    if block not in [\"b12_PAR\", \"b12_4\", \"b19_1\", \"b19_2\"]:\n",
    "\n",
    "        plt.scatter(Gw_blocks[block]['meandS'],\n",
    "                    Gw_blocks[block]['prop_genes_lost'])\n",
    "\n",
    "        plt.text(Gw_blocks[block]['meandS'],\n",
    "                 Gw_blocks[block]['prop_genes_lost'], \n",
    "                 block)\n",
    "                \n",
    "plt.ylabel(\"% genes lost\")\n",
    "plt.xlabel(\"dS\")\n",
    "\n",
    "plt.show()\n"
   ]
  },
  {
   "cell_type": "code",
   "execution_count": 313,
   "id": "97e01098-0643-4397-a7b1-5fa45d39bfe0",
   "metadata": {},
   "outputs": [
    {
     "data": {
      "image/png": "[encoded data removed]",
      "text/plain": [
       "<Figure size 640x480 with 1 Axes>"
      ]
     },
     "metadata": {},
     "output_type": "display_data"
    }
   ],
   "source": [
    "for block in Gw_blocks:\n",
    "    \n",
    "    if block not in [ \"b12_PAR\", \"b12_4\", \"b19_1\", \"b19_2\"]:\n",
    "\n",
    "        plt.hlines(Gw_blocks[block]['meandS'],\n",
    "                   Gw_blocks[block][\"coords\"][0],\n",
    "                   Gw_blocks[block][\"coords\"][1])\n",
    "        \n",
    "plt.xlabel(\"position Chr12\")\n",
    "plt.ylabel(\"dS\")\n",
    "plt.show()"
   ]
  },
  {
   "cell_type": "code",
   "execution_count": 314,
   "id": "c273988a-4054-4e1e-9a88-f099cb98aa26",
   "metadata": {},
   "outputs": [],
   "source": [
    "Gw_dS_path = \"/Users/dj20y461/Data_temp/Stickleback/Y_comp/M_F_stats_plots/Gw/dNdS.results\"\n",
    "\n",
    "Gw_ds_dict = {}\n",
    "\n",
    "with open(Gw_dS_path) as Gw_dS:\n",
    "    for line in Gw_dS:\n",
    "        if line.split()[1] == \"chr12\":\n",
    "            pos = int(line.split()[2])\n",
    "            dS = float(line.split()[8])\n",
    "            if dS < 10:\n",
    "                Gw_ds_dict[pos] = dS\n",
    "        \n",
    "        "
   ]
  },
  {
   "cell_type": "code",
   "execution_count": 315,
   "id": "c3557564-dcde-4b37-a6f6-7798a093b67b",
   "metadata": {},
   "outputs": [
    {
     "data": {
      "image/png": "[encoded data removed]",
      "text/plain": [
       "<Figure size 640x480 with 1 Axes>"
      ]
     },
     "metadata": {},
     "output_type": "display_data"
    }
   ],
   "source": [
    "for pos in Gw_ds_dict:\n",
    "    plt.scatter(pos, Gw_ds_dict[pos], color = \"black\", s = 1)\n",
    "plt.show()"
   ]
  },
  {
   "cell_type": "code",
   "execution_count": 259,
   "id": "417afda4-ee43-465b-b30b-b944da3eaa35",
   "metadata": {},
   "outputs": [
    {
     "data": {
      "image/png": "[encoded data removed]",
      "text/plain": [
       "<Figure size 640x480 with 1 Axes>"
      ]
     },
     "metadata": {},
     "output_type": "display_data"
    }
   ],
   "source": [
    "for pos in Gw_ds_dict:\n",
    "    plt.scatter(pos, Gw_ds_dict[pos], color = \"black\", s = 1)\n",
    "plt.show()"
   ]
  },
  {
   "cell_type": "code",
   "execution_count": 316,
   "id": "54b48f8e-4545-49a5-8f94-65bd4068fef4",
   "metadata": {},
   "outputs": [
    {
     "data": {
      "text/plain": [
       "dict_keys(['chrom', 'coords', 'dS', 'lost', 'meandS', 'N_lost', 'X_genes', 'prop_genes_lost'])"
      ]
     },
     "execution_count": 316,
     "metadata": {},
     "output_type": "execute_result"
    }
   ],
   "source": [
    "Gw_blocks[block].keys()"
   ]
  },
  {
   "cell_type": "code",
   "execution_count": 317,
   "id": "06d213be-a240-4797-9435-48539023620b",
   "metadata": {
    "collapsed": true,
    "jupyter": {
     "outputs_hidden": true
    },
    "tags": []
   },
   "outputs": [
    {
     "name": "stdout",
     "output_type": "stream",
     "text": [
      "Help on function bar in module matplotlib.pyplot:\n",
      "\n",
      "bar(x, height, width=0.8, bottom=None, *, align='center', data=None, **kwargs)\n",
      "    Make a bar plot.\n",
      "    \n",
      "    The bars are positioned at *x* with the given *align*\\ment. Their\n",
      "    dimensions are given by *height* and *width*. The vertical baseline\n",
      "    is *bottom* (default 0).\n",
      "    \n",
      "    Many parameters can take either a single value applying to all bars\n",
      "    or a sequence of values, one for each bar.\n",
      "    \n",
      "    Parameters\n",
      "    ----------\n",
      "    x : float or array-like\n",
      "        The x coordinates of the bars. See also *align* for the\n",
      "        alignment of the bars to the coordinates.\n",
      "    \n",
      "    height : float or array-like\n",
      "        The height(s) of the bars.\n",
      "    \n",
      "    width : float or array-like, default: 0.8\n",
      "        The width(s) of the bars.\n",
      "    \n",
      "    bottom : float or array-like, default: 0\n",
      "        The y coordinate(s) of the bars bases.\n",
      "    \n",
      "    align : {'center', 'edge'}, default: 'center'\n",
      "        Alignment of the bars to the *x* coordinates:\n",
      "    \n",
      "        - 'center': Center the base on the *x* positions.\n",
      "        - 'edge': Align the left edges of the bars with the *x* positions.\n",
      "    \n",
      "        To align the bars on the right edge pass a negative *width* and\n",
      "        ``align='edge'``.\n",
      "    \n",
      "    Returns\n",
      "    -------\n",
      "    `.BarContainer`\n",
      "        Container with all the bars and optionally errorbars.\n",
      "    \n",
      "    Other Parameters\n",
      "    ----------------\n",
      "    color : color or list of color, optional\n",
      "        The colors of the bar faces.\n",
      "    \n",
      "    edgecolor : color or list of color, optional\n",
      "        The colors of the bar edges.\n",
      "    \n",
      "    linewidth : float or array-like, optional\n",
      "        Width of the bar edge(s). If 0, don't draw edges.\n",
      "    \n",
      "    tick_label : str or list of str, optional\n",
      "        The tick labels of the bars.\n",
      "        Default: None (Use default numeric labels.)\n",
      "    \n",
      "    xerr, yerr : float or array-like of shape(N,) or shape(2, N), optional\n",
      "        If not *None*, add horizontal / vertical errorbars to the bar tips.\n",
      "        The values are +/- sizes relative to the data:\n",
      "    \n",
      "        - scalar: symmetric +/- values for all bars\n",
      "        - shape(N,): symmetric +/- values for each bar\n",
      "        - shape(2, N): Separate - and + values for each bar. First row\n",
      "          contains the lower errors, the second row contains the upper\n",
      "          errors.\n",
      "        - *None*: No errorbar. (Default)\n",
      "    \n",
      "        See :doc:`/gallery/statistics/errorbar_features`\n",
      "        for an example on the usage of ``xerr`` and ``yerr``.\n",
      "    \n",
      "    ecolor : color or list of color, default: 'black'\n",
      "        The line color of the errorbars.\n",
      "    \n",
      "    capsize : float, default: :rc:`errorbar.capsize`\n",
      "       The length of the error bar caps in points.\n",
      "    \n",
      "    error_kw : dict, optional\n",
      "        Dictionary of kwargs to be passed to the `~.Axes.errorbar`\n",
      "        method. Values of *ecolor* or *capsize* defined here take\n",
      "        precedence over the independent kwargs.\n",
      "    \n",
      "    log : bool, default: False\n",
      "        If *True*, set the y-axis to be log scale.\n",
      "    \n",
      "    data : indexable object, optional\n",
      "        If given, all parameters also accept a string ``s``, which is\n",
      "        interpreted as ``data[s]`` (unless this raises an exception).\n",
      "    \n",
      "    **kwargs : `.Rectangle` properties\n",
      "    \n",
      "    Properties:\n",
      "        agg_filter: a filter function, which takes a (m, n, 3) float array and a dpi value, and returns a (m, n, 3) array\n",
      "        alpha: scalar or None\n",
      "        angle: unknown\n",
      "        animated: bool\n",
      "        antialiased or aa: bool or None\n",
      "        bounds: (left, bottom, width, height)\n",
      "        capstyle: `.CapStyle` or {'butt', 'projecting', 'round'}\n",
      "        clip_box: `.Bbox`\n",
      "        clip_on: bool\n",
      "        clip_path: Patch or (Path, Transform) or None\n",
      "        color: color\n",
      "        edgecolor or ec: color or None\n",
      "        facecolor or fc: color or None\n",
      "        figure: `.Figure`\n",
      "        fill: bool\n",
      "        gid: str\n",
      "        hatch: {'/', '\\\\', '|', '-', '+', 'x', 'o', 'O', '.', '*'}\n",
      "        height: unknown\n",
      "        in_layout: bool\n",
      "        joinstyle: `.JoinStyle` or {'miter', 'round', 'bevel'}\n",
      "        label: object\n",
      "        linestyle or ls: {'-', '--', '-.', ':', '', (offset, on-off-seq), ...}\n",
      "        linewidth or lw: float or None\n",
      "        path_effects: `.AbstractPathEffect`\n",
      "        picker: None or bool or float or callable\n",
      "        rasterized: bool\n",
      "        sketch_params: (scale: float, length: float, randomness: float)\n",
      "        snap: bool or None\n",
      "        transform: `.Transform`\n",
      "        url: str\n",
      "        visible: bool\n",
      "        width: unknown\n",
      "        x: unknown\n",
      "        xy: (float, float)\n",
      "        y: unknown\n",
      "        zorder: float\n",
      "    \n",
      "    See Also\n",
      "    --------\n",
      "    barh : Plot a horizontal bar plot.\n",
      "    \n",
      "    Notes\n",
      "    -----\n",
      "    Stacked bars can be achieved by passing individual *bottom* values per\n",
      "    bar. See :doc:`/gallery/lines_bars_and_markers/bar_stacked`.\n",
      "\n"
     ]
    }
   ],
   "source": [
    "help(plt.bar)"
   ]
  },
  {
   "cell_type": "code",
   "execution_count": 345,
   "id": "9fbab766-4663-455c-8d6b-22184fd72097",
   "metadata": {},
   "outputs": [
    {
     "name": "stdout",
     "output_type": "stream",
     "text": [
      "23001000.0 369 5462000\n",
      "20525000.0 369 5462000\n",
      "18531000.0 369 5462000\n",
      "15803500.0 369 5462000\n",
      "14951000.0 369 5462000\n",
      "13408500.0 369 5462000\n",
      "11964500.0 369 5462000\n",
      "8933000.0 369 5462000\n"
     ]
    },
    {
     "data": {
      "image/png": "[encoded data removed]",
      "text/plain": [
       "<Figure size 640x480 with 1 Axes>"
      ]
     },
     "metadata": {},
     "output_type": "display_data"
    }
   ],
   "source": [
    "for block in Gw_blocks:\n",
    "    \n",
    "    if block not in [ \"b12_PAR\", \"b12_4\", \"b19_1\", \"b19_2\"]:\n",
    "\n",
    "        pos = Gw_blocks[block][\"coords\"][0] + (Gw_blocks[block][\"coords\"][1] - Gw_blocks[block][\"coords\"][0])/2\n",
    "        Xgenes = len(Gw_blocks[block]['X_genes'])\n",
    "        Ygenes = len(Gw_blocks[block]['X_genes']) - Gw_blocks[block]['N_lost']\n",
    "        block_width = (Gw_blocks[block][\"coords\"][1] - Gw_blocks[block][\"coords\"][0])\n",
    "        \n",
    "        print(pos, height, width)\n",
    "        \n",
    "        plt.bar(pos,\n",
    "                Xgenes,\n",
    "                block_width,\n",
    "                color = \"grey\")\n",
    "        \n",
    "        plt.bar(pos,\n",
    "                Ygenes,\n",
    "                block_width,\n",
    "                color = \"black\")\n",
    "                    \n",
    "plt.show()"
   ]
  },
  {
   "cell_type": "code",
   "execution_count": 346,
   "id": "b19b3638-c48d-4ca0-b0d3-8f1778db6a55",
   "metadata": {},
   "outputs": [
    {
     "name": "stdout",
     "output_type": "stream",
     "text": [
      "18432500.0 369 5462000\n",
      "7107500.0 369 5462000\n"
     ]
    },
    {
     "data": {
      "image/png": "[encoded data removed]",
      "text/plain": [
       "<Figure size 640x480 with 1 Axes>"
      ]
     },
     "metadata": {},
     "output_type": "display_data"
    }
   ],
   "source": [
    "for block in Gw_blocks:\n",
    "    \n",
    "    if block not in [ \"b12_PAR\", \"b12_1\",\"b12_2\",\"b12_3\",\"b12_4\",\"b12_5\",\"b12_6\",\"b12_7\",\"b12_8\",\"b12_9\"]:\n",
    "\n",
    "        pos = Gw_blocks[block][\"coords\"][0] + (Gw_blocks[block][\"coords\"][1] - Gw_blocks[block][\"coords\"][0])/2\n",
    "        Xgenes = len(Gw_blocks[block]['X_genes'])\n",
    "        Ygenes = len(Gw_blocks[block]['X_genes']) - Gw_blocks[block]['N_lost']\n",
    "        block_width = (Gw_blocks[block][\"coords\"][1] - Gw_blocks[block][\"coords\"][0])\n",
    "        \n",
    "        print(pos, height, width)\n",
    "        \n",
    "        plt.bar(pos,\n",
    "                Xgenes,\n",
    "                block_width,\n",
    "                color = \"grey\")\n",
    "        \n",
    "        plt.bar(pos,\n",
    "                Ygenes,\n",
    "                block_width,\n",
    "                color = \"black\")\n",
    "                    \n",
    "plt.show()"
   ]
  }
 ],
 "metadata": {
  "kernelspec": {
   "display_name": "Python 3 (ipykernel)",
   "language": "python",
   "name": "python3"
  },
  "language_info": {
   "codemirror_mode": {
    "name": "ipython",
    "version": 3
   },
   "file_extension": ".py",
   "mimetype": "text/x-python",
   "name": "python",
   "nbconvert_exporter": "python",
   "pygments_lexer": "ipython3",
   "version": "3.9.13"
  }
 },
 "nbformat": 4,
 "nbformat_minor": 5
}
