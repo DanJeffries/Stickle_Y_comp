{
 "cells": [
  {
   "cell_type": "code",
   "execution_count": 13,
   "metadata": {},
   "outputs": [],
   "source": [
    "def merge_and_count(seq1, seq2):\n",
    "  # Initialize inversion count to 0 and break point list to empty\n",
    "  inv_count = 0\n",
    "  break_points = []\n",
    "\n",
    "  # Divide the sequences into two smaller sequences\n",
    "  # each containing half of the elements\n",
    "  half1 = seq1[:len(seq1) // 2]\n",
    "  half2 = seq1[len(seq1) // 2:]\n",
    "  half3 = seq2[:len(seq2) // 2]\n",
    "  half4 = seq2[len(seq2) // 2:]\n",
    "\n",
    "  # Compare the elements in the first half of the first sequence\n",
    "  # with the elements in the second half of the second sequence,\n",
    "  # and count the number of inversions between them\n",
    "  for i in half1:\n",
    "    for j in half4:\n",
    "      if i > j:\n",
    "        inv_count += 1\n",
    "        break_points.append(i)\n",
    "\n",
    "  # Repeat the process for the second half of the first sequence\n",
    "  # and the first half of the second sequence, and add the number\n",
    "  # of inversions from both steps to get the total number of inversions\n",
    "  for i in half2:\n",
    "    for j in half3:\n",
    "      if i > j:\n",
    "        inv_count += 1\n",
    "        break_points.append(i)\n",
    "\n",
    "  # Remove duplicates from the break point list\n",
    "  break_points = list(set(break_points))\n",
    "\n",
    "  return (inv_count, break_points)"
   ]
  },
  {
   "cell_type": "code",
   "execution_count": 16,
   "metadata": {},
   "outputs": [
    {
     "ename": "IndentationError",
     "evalue": "unindent does not match any outer indentation level (<tokenize>, line 29)",
     "output_type": "error",
     "traceback": [
      "\u001b[0;36m  File \u001b[0;32m\"<tokenize>\"\u001b[0;36m, line \u001b[0;32m29\u001b[0m\n\u001b[0;31m    return (inv_count, break_points)\u001b[0m\n\u001b[0m    ^\u001b[0m\n\u001b[0;31mIndentationError\u001b[0m\u001b[0;31m:\u001b[0m unindent does not match any outer indentation level\n"
     ]
    }
   ],
   "source": [
    "def merge_and_count(seq1, seq2):\n",
    "  # Initialize inversion count to 0 and break point list to empty\n",
    "  inv_count = 0\n",
    "  break_points = []\n",
    "\n",
    "  # Divide the sequences into two smaller sequences\n",
    "  # each containing half of the elements\n",
    "  half1 = seq1[:len(seq1) // 2]\n",
    "  half2 = seq1[len(seq1) // 2:]\n",
    "  half3 = seq2[:len(seq2) // 2]\n",
    "  half4 = seq2[len(seq2) // 2:]\n",
    "\n",
    "  # Compare the elements in the first half of the first sequence\n",
    "  # with the elements in the second half of the second sequence,\n",
    "  # and count the number of inversions between them\n",
    "  for i in range(len(half1) - 1):\n",
    "    if half1[i] > half4[i]:\n",
    "      inv_count += 1\n",
    "      break_points.append((half1[i], half4[i]))\n",
    "\n",
    "  # Repeat the process for the second half of the first sequence\n",
    "  # and the first half of the second sequence, and add the number\n",
    "  # of inversions from both steps to get the total number of inversions\n",
    "  for i in range(len(half2) - 1):\n",
    "    if half2[i] > half3[i]:\n",
    "      inv_count += 1\n",
    "      break_points.append((half2[i], half3[i]))\n",
    "    return (inv_count, break_points)"
   ]
  },
  {
   "cell_type": "code",
   "execution_count": 14,
   "metadata": {},
   "outputs": [
    {
     "name": "stdout",
     "output_type": "stream",
     "text": [
      "Minimum number of inversions: 100\n",
      "Inversion list: [9, 10, 11, 12, 13, 14, 15, 16, 17, 18, 19, 20]\n"
     ]
    }
   ],
   "source": [
    "# Define the two DNA sequences\n",
    "seq1 = [1, 2, 3, 4, 5, 6, 7, 8, 9, 10, 11, 12, 13, 14, 15, 16, 17, 18, 19, 20]\n",
    "seq2 = [1, 2, 3, 4, 5, 6, 7, 12 ,11 ,10 ,9 ,8 ,13, 14, 15, 16, 17, 18, 19, 20]\n",
    "\n",
    "# Calculate the minimum number of inversions between the sequences\n",
    "min_inversions, inv_list = merge_and_count(seq1, seq2)\n",
    "\n",
    "# Print the result\n",
    "print(f\"Minimum number of inversions: {min_inversions}\")\n",
    "print(f\"Inversion list: {inv_list}\")"
   ]
  }
 ],
 "metadata": {
  "kernelspec": {
   "display_name": "Python 3",
   "language": "python",
   "name": "python3"
  },
  "language_info": {
   "codemirror_mode": {
    "name": "ipython",
    "version": 3
   },
   "file_extension": ".py",
   "mimetype": "text/x-python",
   "name": "python",
   "nbconvert_exporter": "python",
   "pygments_lexer": "ipython3",
   "version": "3.7.3"
  }
 },
 "nbformat": 4,
 "nbformat_minor": 4
}
